{
  "nbformat": 4,
  "nbformat_minor": 0,
  "metadata": {
    "colab": {
      "provenance": []
    },
    "kernelspec": {
      "name": "python3",
      "display_name": "Python 3"
    },
    "language_info": {
      "name": "python"
    },
    "accelerator": "GPU",
    "gpuClass": "standard"
  },
  "cells": [
    {
      "cell_type": "code",
      "execution_count": null,
      "metadata": {
        "colab": {
          "base_uri": "https://localhost:8080/"
        },
        "id": "t58JujTScBvb",
        "outputId": "a62457e7-dec0-4752-afdc-57fa2d04cab7"
      },
      "outputs": [
        {
          "output_type": "stream",
          "name": "stdout",
          "text": [
            "\n",
            "Instances are:\n",
            " [['sunny' 'warm' 'normal' 'strong' 'warm' 'same']\n",
            " ['sunny' 'warm' 'high' 'strong' 'warm' 'same']\n",
            " ['rainy' 'cold' 'high' 'strong' 'warm' 'change']\n",
            " ['sunny' 'warm' 'high' 'strong' 'cool' 'change']]\n",
            "\n",
            "Target Values are:  ['yes' 'yes' 'no' 'yes']\n",
            "\n",
            "Initialization of specific_h and genearal_h\n",
            "\n",
            "Specific Boundary:  ['sunny' 'warm' 'normal' 'strong' 'warm' 'same']\n",
            "\n",
            "Generic Boundary:  [['?', '?', '?', '?', '?', '?'], ['?', '?', '?', '?', '?', '?'], ['?', '?', '?', '?', '?', '?'], ['?', '?', '?', '?', '?', '?'], ['?', '?', '?', '?', '?', '?'], ['?', '?', '?', '?', '?', '?']]\n",
            "\n",
            "Instance 1 is  ['sunny' 'warm' 'normal' 'strong' 'warm' 'same']\n",
            "Instance is Positive \n",
            "Specific Bundary after  1 Instance is  ['sunny' 'warm' 'normal' 'strong' 'warm' 'same']\n",
            "Generic Boundary after  1 Instance is  [['?', '?', '?', '?', '?', '?'], ['?', '?', '?', '?', '?', '?'], ['?', '?', '?', '?', '?', '?'], ['?', '?', '?', '?', '?', '?'], ['?', '?', '?', '?', '?', '?'], ['?', '?', '?', '?', '?', '?']]\n",
            "\n",
            "\n",
            "\n",
            "Instance 2 is  ['sunny' 'warm' 'high' 'strong' 'warm' 'same']\n",
            "Instance is Positive \n",
            "Specific Bundary after  2 Instance is  ['sunny' 'warm' '?' 'strong' 'warm' 'same']\n",
            "Generic Boundary after  2 Instance is  [['?', '?', '?', '?', '?', '?'], ['?', '?', '?', '?', '?', '?'], ['?', '?', '?', '?', '?', '?'], ['?', '?', '?', '?', '?', '?'], ['?', '?', '?', '?', '?', '?'], ['?', '?', '?', '?', '?', '?']]\n",
            "\n",
            "\n",
            "\n",
            "Instance 3 is  ['rainy' 'cold' 'high' 'strong' 'warm' 'change']\n",
            "Instance is Negative \n",
            "Specific Bundary after  3 Instance is  ['sunny' 'warm' '?' 'strong' 'warm' 'same']\n",
            "Generic Boundary after  3 Instance is  [['sunny', '?', '?', '?', '?', '?'], ['?', 'warm', '?', '?', '?', '?'], ['?', '?', '?', '?', '?', '?'], ['?', '?', '?', '?', '?', '?'], ['?', '?', '?', '?', '?', '?'], ['?', '?', '?', '?', '?', 'same']]\n",
            "\n",
            "\n",
            "\n",
            "Instance 4 is  ['sunny' 'warm' 'high' 'strong' 'cool' 'change']\n",
            "Instance is Positive \n",
            "Specific Bundary after  4 Instance is  ['sunny' 'warm' '?' 'strong' '?' '?']\n",
            "Generic Boundary after  4 Instance is  [['sunny', '?', '?', '?', '?', '?'], ['?', 'warm', '?', '?', '?', '?'], ['?', '?', '?', '?', '?', '?'], ['?', '?', '?', '?', '?', '?'], ['?', '?', '?', '?', '?', '?'], ['?', '?', '?', '?', '?', '?']]\n",
            "\n",
            "\n",
            "Final Specific_h: \n",
            "['sunny' 'warm' '?' 'strong' '?' '?']\n",
            "Final General_h: \n",
            "[['sunny', '?', '?', '?', '?', '?'], ['?', 'warm', '?', '?', '?', '?']]\n"
          ]
        }
      ],
      "source": [
        "import numpy as np \n",
        "import pandas as pd\n",
        "\n",
        "data = pd.read_csv('3.csv')\n",
        "concepts = np.array(data.iloc[:,0:-1])\n",
        "print(\"\\nInstances are:\\n\",concepts)\n",
        "target = np.array(data.iloc[:,-1])\n",
        "print(\"\\nTarget Values are: \",target)\n",
        "\n",
        "def learn(concepts, target): \n",
        "    specific_h = concepts[0].copy()\n",
        "    print(\"\\nInitialization of specific_h and genearal_h\")\n",
        "    print(\"\\nSpecific Boundary: \", specific_h)\n",
        "    general_h = [[\"?\" for i in range(len(specific_h))] for i in range(len(specific_h))]\n",
        "    print(\"\\nGeneric Boundary: \",general_h)  \n",
        "\n",
        "    for i, h in enumerate(concepts):\n",
        "        print(\"\\nInstance\", i+1 , \"is \", h)\n",
        "        if target[i] == \"yes\":\n",
        "            print(\"Instance is Positive \")\n",
        "            for x in range(len(specific_h)): \n",
        "                if h[x]!= specific_h[x]:                    \n",
        "                    specific_h[x] ='?'                     \n",
        "                    general_h[x][x] ='?'\n",
        "                   \n",
        "        if target[i] == \"no\":            \n",
        "            print(\"Instance is Negative \")\n",
        "            for x in range(len(specific_h)): \n",
        "                if h[x]!= specific_h[x]:                    \n",
        "                    general_h[x][x] = specific_h[x]                \n",
        "                else:                    \n",
        "                    general_h[x][x] = '?'        \n",
        "        \n",
        "        print(\"Specific Bundary after \", i+1, \"Instance is \", specific_h)         \n",
        "        print(\"Generic Boundary after \", i+1, \"Instance is \", general_h)\n",
        "        print(\"\\n\")\n",
        "\n",
        "    indices = [i for i, val in enumerate(general_h) if val == ['?', '?', '?', '?', '?', '?']]    \n",
        "    for i in indices:   \n",
        "        general_h.remove(['?', '?', '?', '?', '?', '?']) \n",
        "    return specific_h, general_h \n",
        "\n",
        "s_final, g_final = learn(concepts, target)\n",
        "\n",
        "print(\"Final Specific_h: \", s_final, sep=\"\\n\")\n",
        "print(\"Final General_h: \", g_final, sep=\"\\n\")"
      ]
    },
    {
      "cell_type": "code",
      "source": [
        "import csv\n",
        "a = []\n",
        "with open('4.csv', 'r') as csvfile:\n",
        "    next(csvfile)\n",
        "    for row in csv.reader(csvfile):\n",
        "        a.append(row)\n",
        "    print(a)\n",
        "\n",
        "print(\"\\nThe total number of training instances are : \",len(a))\n",
        "\n",
        "num_attribute = len(a[0])-1\n",
        "\n",
        "print(\"\\nThe initial hypothesis is : \")\n",
        "hypothesis = ['0']*num_attribute\n",
        "print(hypothesis)\n",
        "\n",
        "for i in range(0, len(a)):\n",
        "    if a[i][num_attribute] == 'yes':\n",
        "        print (\"\\nInstance \", i+1, \"is\", a[i], \" and is Positive Instance\")\n",
        "        for j in range(0, num_attribute):\n",
        "            if hypothesis[j] == '0' or hypothesis[j] == a[i][j]:\n",
        "                hypothesis[j] = a[i][j]\n",
        "            else:\n",
        "                hypothesis[j] = '?'\n",
        "        print(\"The hypothesis for the training instance\", i+1, \" is: \" , hypothesis, \"\\n\")\n",
        "\n",
        "    if a[i][num_attribute] == 'no':\n",
        "        print (\"\\nInstance \", i+1, \"is\", a[i], \" and is Negative Instance Hence Ignored\")\n",
        "        print(\"The hypothesis for the training instance\", i+1, \" is: \" , hypothesis, \"\\n\")\n",
        "\n",
        "print(\"\\nThe Maximally specific hypothesis for the training instance is \", hypothesis)"
      ],
      "metadata": {
        "colab": {
          "base_uri": "https://localhost:8080/"
        },
        "id": "unVdCvQVduJc",
        "outputId": "b62e57a6-3327-4d71-e0d7-b1d372112924"
      },
      "execution_count": null,
      "outputs": [
        {
          "output_type": "stream",
          "name": "stdout",
          "text": [
            "[['sunny', 'warm', 'normal', 'strong', 'warm', 'same', 'yes'], ['sunny', 'warm', 'high', 'strong', 'warm', 'same', 'yes'], ['rainy', 'cold', 'high', 'strong', 'warm', 'change', 'no'], ['sunny', 'warm', 'high', 'strong', 'cool', 'change', 'yes']]\n",
            "\n",
            "The total number of training instances are :  4\n",
            "\n",
            "The initial hypothesis is : \n",
            "['0', '0', '0', '0', '0', '0']\n",
            "\n",
            "Instance  1 is ['sunny', 'warm', 'normal', 'strong', 'warm', 'same', 'yes']  and is Positive Instance\n",
            "The hypothesis for the training instance 1  is:  ['sunny', 'warm', 'normal', 'strong', 'warm', 'same'] \n",
            "\n",
            "\n",
            "Instance  2 is ['sunny', 'warm', 'high', 'strong', 'warm', 'same', 'yes']  and is Positive Instance\n",
            "The hypothesis for the training instance 2  is:  ['sunny', 'warm', '?', 'strong', 'warm', 'same'] \n",
            "\n",
            "\n",
            "Instance  3 is ['rainy', 'cold', 'high', 'strong', 'warm', 'change', 'no']  and is Negative Instance Hence Ignored\n",
            "The hypothesis for the training instance 3  is:  ['sunny', 'warm', '?', 'strong', 'warm', 'same'] \n",
            "\n",
            "\n",
            "Instance  4 is ['sunny', 'warm', 'high', 'strong', 'cool', 'change', 'yes']  and is Positive Instance\n",
            "The hypothesis for the training instance 4  is:  ['sunny', 'warm', '?', 'strong', '?', '?'] \n",
            "\n",
            "\n",
            "The Maximally specific hypothesis for the training instance is  ['sunny', 'warm', '?', 'strong', '?', '?']\n"
          ]
        }
      ]
    },
    {
      "cell_type": "code",
      "source": [
        "import pandas as pd\n",
        "import math\n",
        "import numpy as np\n",
        "\n",
        "data = pd.read_csv(\"5.csv\")\n",
        "features = [feat for feat in data]\n",
        "print(features)\n",
        "features.remove(\"answer\")\n",
        "print(features)\n",
        "class Node:\n",
        "    def __init__(self):\n",
        "        self.children = []\n",
        "        self.value = \"\"\n",
        "        self.isLeaf = False\n",
        "        self.pred = \"\"\n",
        "def entropy(examples):\n",
        "    pos = 0.0\n",
        "    neg = 0.0\n",
        "    for _, row in examples.iterrows():\n",
        "        if row[\"answer\"] == \"yes\":\n",
        "            pos += 1\n",
        "        else:\n",
        "            neg += 1\n",
        "    if pos == 0.0 or neg == 0.0:\n",
        "        return 0.0\n",
        "    else:\n",
        "        p = pos / (pos + neg)\n",
        "        n = neg / (pos + neg)\n",
        "        return -(p * math.log(p, 2) + n * math.log(n, 2))\n",
        "def info_gain(examples, attr):\n",
        "    uniq = np.unique(examples[attr])\n",
        "    #print (\"\\n\",uniq)\n",
        "    gain = entropy(examples)\n",
        "    #print (\"\\n\",gain)\n",
        "    for u in uniq:\n",
        "        subdata = examples[examples[attr] == u]\n",
        "        #print (\"\\n\",subdata)\n",
        "        sub_e = entropy(subdata)\n",
        "        gain -= (float(len(subdata)) / float(len(examples))) * sub_e\n",
        "        #print (\"\\n\",gain)\n",
        "    return gain\n",
        "def ID3(examples, attrs):\n",
        "    root = Node()\n",
        "\n",
        "    max_gain = 0\n",
        "    max_feat = \"\"\n",
        "    for feature in attrs:\n",
        "        #print (\"\\n\",examples)\n",
        "        gain = info_gain(examples, feature)\n",
        "        if gain > max_gain:\n",
        "            max_gain = gain\n",
        "            max_feat = feature\n",
        "    root.value = max_feat\n",
        "    #print (\"\\nMax feature attr\",max_feat)\n",
        "    uniq = np.unique(examples[max_feat])\n",
        "    #print (\"\\n\",uniq)\n",
        "    for u in uniq:\n",
        "        #print (\"\\n\",u)\n",
        "        subdata = examples[examples[max_feat] == u]\n",
        "        #print (\"\\n\",subdata)\n",
        "        if entropy(subdata) == 0.0:\n",
        "            newNode = Node()\n",
        "            newNode.isLeaf = True\n",
        "            newNode.value = u\n",
        "            newNode.pred = np.unique(subdata[\"answer\"])\n",
        "            root.children.append(newNode)\n",
        "        else:\n",
        "            dummyNode = Node()\n",
        "            dummyNode.value = u\n",
        "            new_attrs = attrs.copy()\n",
        "            new_attrs.remove(max_feat)\n",
        "            child = ID3(subdata, new_attrs)\n",
        "            dummyNode.children.append(child)\n",
        "            root.children.append(dummyNode)\n",
        "\n",
        "    return root\n",
        "def printTree(root: Node, depth=0):\n",
        "    for i in range(depth):\n",
        "        print(\"\\t\", end=\"\")\n",
        "    print(root.value, end=\"\")\n",
        "    if root.isLeaf:\n",
        "        print(\" -> \", root.pred)\n",
        "    print()\n",
        "    for child in root.children:\n",
        "        printTree(child, depth + 1)\n",
        "def classify(root: Node, new):\n",
        "    for child in root.children:\n",
        "        if child.value == new[root.value]:\n",
        "            if child.isLeaf:\n",
        "                print (\"Predicted Label for new example\", new,\" is:\", child.pred)\n",
        "                exit\n",
        "            else:\n",
        "                classify (child.children[0], new)\n",
        "root = ID3(data, features)\n",
        "print(\"Decision Tree is:\")\n",
        "printTree(root)\n",
        "print (\"------------------\")\n",
        "\n",
        "new = {\"outlook\":\"sunny\", \"temperature\":\"hot\", \"humidity\":\"normal\", \"wind\":\"strong\"}\n",
        "classify (root, new)"
      ],
      "metadata": {
        "colab": {
          "base_uri": "https://localhost:8080/"
        },
        "id": "eySUrVI4eGgb",
        "outputId": "f1d9198a-976d-4889-b9da-1ecbe58fd4ce"
      },
      "execution_count": null,
      "outputs": [
        {
          "output_type": "stream",
          "name": "stdout",
          "text": [
            "['outlook', 'temperature', 'humidity', 'wind', 'answer']\n",
            "['outlook', 'temperature', 'humidity', 'wind']\n",
            "Decision Tree is:\n",
            "outlook\n",
            "\tovercast ->  ['yes']\n",
            "\n",
            "\train\n",
            "\t\twind\n",
            "\t\t\tstrong ->  ['no']\n",
            "\n",
            "\t\t\tweak ->  ['yes']\n",
            "\n",
            "\tsunny\n",
            "\t\thumidity\n",
            "\t\t\thigh ->  ['no']\n",
            "\n",
            "\t\t\tnormal ->  ['yes']\n",
            "\n",
            "------------------\n",
            "Predicted Label for new example {'outlook': 'sunny', 'temperature': 'hot', 'humidity': 'normal', 'wind': 'strong'}  is: ['yes']\n"
          ]
        }
      ]
    },
    {
      "cell_type": "code",
      "source": [
        "!pip install face_recognition\n"
      ],
      "metadata": {
        "colab": {
          "base_uri": "https://localhost:8080/"
        },
        "id": "tYxl92GAlz0t",
        "outputId": "1f0e65e2-a92b-42b2-c005-ecdd3e09aa3d"
      },
      "execution_count": null,
      "outputs": [
        {
          "output_type": "stream",
          "name": "stdout",
          "text": [
            "Looking in indexes: https://pypi.org/simple, https://us-python.pkg.dev/colab-wheels/public/simple/\n",
            "Collecting face_recognition\n",
            "  Downloading face_recognition-1.3.0-py2.py3-none-any.whl (15 kB)\n",
            "Collecting face-recognition-models>=0.3.0\n",
            "  Downloading face_recognition_models-0.3.0.tar.gz (100.1 MB)\n",
            "\u001b[K     |████████████████████████████████| 100.1 MB 26 kB/s \n",
            "\u001b[?25hRequirement already satisfied: Pillow in /usr/local/lib/python3.7/dist-packages (from face_recognition) (7.1.2)\n",
            "Requirement already satisfied: numpy in /usr/local/lib/python3.7/dist-packages (from face_recognition) (1.21.6)\n",
            "Requirement already satisfied: Click>=6.0 in /usr/local/lib/python3.7/dist-packages (from face_recognition) (7.1.2)\n",
            "Requirement already satisfied: dlib>=19.7 in /usr/local/lib/python3.7/dist-packages (from face_recognition) (19.24.0)\n",
            "Building wheels for collected packages: face-recognition-models\n",
            "  Building wheel for face-recognition-models (setup.py) ... \u001b[?25l\u001b[?25hdone\n",
            "  Created wheel for face-recognition-models: filename=face_recognition_models-0.3.0-py2.py3-none-any.whl size=100566185 sha256=ffe357ae4b02fb1b77feb34090c1597b1813ca012e1b47ebb3e23352d66d47e7\n",
            "  Stored in directory: /root/.cache/pip/wheels/d6/81/3c/884bcd5e1c120ff548d57c2ecc9ebf3281c9a6f7c0e7e7947a\n",
            "Successfully built face-recognition-models\n",
            "Installing collected packages: face-recognition-models, face-recognition\n",
            "Successfully installed face-recognition-1.3.0 face-recognition-models-0.3.0\n"
          ]
        }
      ]
    },
    {
      "cell_type": "code",
      "source": [
        "import face_recognition as fr\n",
        "import os\n",
        "import cv2\n",
        "import face_recognition\n",
        "import numpy as np\n",
        "from time import sleep\n",
        "\n",
        "\n",
        "def get_encoded_faces():\n",
        "    \"\"\"\n",
        "    looks through the faces folder and encodes all\n",
        "    the faces\n",
        "\n",
        "    :return: dict of (name, image encoded)\n",
        "    \"\"\"\n",
        "    encoded = {}\n",
        "\n",
        "    for dirpath, dnames, fnames in os.walk(\"/content/faces\"):\n",
        "        for f in fnames:\n",
        "            if f.endswith(\".jpg\") or f.endswith(\".png\"):\n",
        "                face = fr.load_image_file(\"/content/faces/\" + f)\n",
        "                encoding = fr.face_encodings(face)[0]\n",
        "                encoded[f.split(\".\")[0]] = encoding\n",
        "\n",
        "    return encoded\n",
        "\n",
        "\n",
        "def unknown_image_encoded(img):\n",
        "    \"\"\"\n",
        "    encode a face given the file name\n",
        "    \"\"\"\n",
        "    face = fr.load_image_file(\"/content/faces/\" + img)\n",
        "    encoding = fr.face_encodings(face)[0]\n",
        "\n",
        "    return encoding\n",
        "\n",
        "\n",
        "def classify_face(im):\n",
        "    \"\"\"\n",
        "    will find all of the faces in a given image and label\n",
        "    them if it knows what they are\n",
        "\n",
        "    :param im: str of file path\n",
        "    :return: list of face names\n",
        "    \"\"\"\n",
        "    faces = get_encoded_faces()\n",
        "    faces_encoded = list(faces.values())\n",
        "    known_face_names = list(faces.keys())\n",
        "\n",
        "    img = cv2.imread(im, 1)\n",
        "    #img = cv2.resize(img, (0, 0), fx=0.5, fy=0.5)\n",
        "    #img = img[:,:,::-1]\n",
        " \n",
        "    face_locations = face_recognition.face_locations(img)\n",
        "    unknown_face_encodings = face_recognition.face_encodings(img, face_locations)\n",
        "\n",
        "    face_names = []\n",
        "    for face_encoding in unknown_face_encodings:\n",
        "        # See if the face is a match for the known face(s)\n",
        "        matches = face_recognition.compare_faces(faces_encoded, face_encoding)\n",
        "        name = \"Unknown\"\n",
        "\n",
        "        # use the known face with the smallest distance to the new face\n",
        "        face_distances = face_recognition.face_distance(faces_encoded, face_encoding)\n",
        "        best_match_index = np.argmin(face_distances)\n",
        "        if matches[best_match_index]:\n",
        "            name = known_face_names[best_match_index]\n",
        "\n",
        "        face_names.append(name)\n",
        "\n",
        "        for (top, right, bottom, left), name in zip(face_locations, face_names):\n",
        "            # Draw a box around the face\n",
        "            cv2.rectangle(img, (left-20, top-20), (right+20, bottom+20), (255, 0, 0), 2)\n",
        "\n",
        "            # Draw a label with a name below the face\n",
        "            cv2.rectangle(img, (left-20, bottom -15), (right+20, bottom+20), (255, 0, 0), cv2.FILLED)\n",
        "            font = cv2.FONT_HERSHEY_DUPLEX\n",
        "            cv2.putText(img, name, (left -20, bottom + 15), font, 1.0, (255, 255, 255), 2)\n",
        "\n",
        "\n",
        "    # Display the resulting image\n",
        "    while True:\n",
        "         print('done')\n",
        "\n",
        "        #cv2.imshow('Video', img)\n",
        "        #if cv2.waitKey(1) & 0xFF == ord('q'):\n",
        "         return face_names \n",
        "\n",
        "\n",
        "print(classify_face(\"/content/test.jpg\"))\n",
        "\n",
        "\n"
      ],
      "metadata": {
        "colab": {
          "base_uri": "https://localhost:8080/"
        },
        "id": "s4LMiVjVlbwP",
        "outputId": "9356f9b0-eb4c-4839-b16f-db587d953997"
      },
      "execution_count": null,
      "outputs": [
        {
          "output_type": "stream",
          "name": "stdout",
          "text": [
            "done\n",
            "['donald trump']\n"
          ]
        }
      ]
    },
    {
      "cell_type": "code",
      "source": [
        "import pandas as pd\n",
        "\n",
        "msg=pd.read_csv('7.csv',names=['message','label']) \n",
        "print('Total instances in the dataset:',msg.shape[0])\n",
        "msg['labelnum']=msg.label.map({'Yes':1,'No':0})\n",
        "X=msg.message\n",
        "Y=msg.labelnum\n",
        "\n",
        "from sklearn.model_selection import train_test_split \n",
        "xtrain,xtest,ytrain,ytest=train_test_split(X,Y,test_size=0.25) \n",
        "print('\\nDataset is split into Training and Testing samples') \n",
        "print('Total training instances :', xtrain.shape[0]) \n",
        "print('Total testing instances :', xtest.shape[0])\n",
        "from sklearn.feature_extraction.text import CountVectorizer #Convert a collection of text documents to a matrix of token counts.\n",
        "count_vect = CountVectorizer()\n",
        "xtrain_dtm = count_vect.fit_transform(xtrain) \n",
        "xtest_dtm = count_vect.transform(xtest)\n",
        "from sklearn.naive_bayes import MultinomialNB\n",
        "clf=MultinomialNB().fit(xtrain_dtm,ytrain)\n",
        "predicted=clf.predict(xtest_dtm)\n",
        "from sklearn import metrics\n",
        "print(\"\\nAccuracy metrics\")\n",
        "print(\"\\nAccuracy of the classifier is:\",metrics.accuracy_score(ytest,predicted))\n",
        "print(\"Recall:\",metrics.recall_score(ytest,predicted))\n",
        "print(\"Confusion matrix\",metrics.confusion_matrix(ytest,predicted))"
      ],
      "metadata": {
        "colab": {
          "base_uri": "https://localhost:8080/"
        },
        "id": "dae7w6iWebj7",
        "outputId": "d012e2bd-f217-4607-f2b0-2312d512a584"
      },
      "execution_count": null,
      "outputs": [
        {
          "output_type": "stream",
          "name": "stdout",
          "text": [
            "Total instances in the dataset: 14\n",
            "\n",
            "Dataset is split into Training and Testing samples\n",
            "Total training instances : 10\n",
            "Total testing instances : 4\n",
            "\n",
            "Accuracy metrics\n",
            "\n",
            "Accuracy of the classifier is: 0.5\n",
            "Recall: 1.0\n",
            "Confusion matrix [[0 2]\n",
            " [0 2]]\n"
          ]
        }
      ]
    },
    {
      "cell_type": "code",
      "source": [
        "# Import necessary modules\n",
        "from sklearn.neighbors import KNeighborsClassifier\n",
        "from sklearn.model_selection import train_test_split\n",
        "from sklearn.datasets import load_iris\n",
        "\n",
        "# Loading data\n",
        "irisData = load_iris()\n",
        "\n",
        "# Create feature and target arrays\n",
        "X = irisData.data\n",
        "y = irisData.target\n",
        "\n",
        "# Split into training and test set\n",
        "X_train, X_test, y_train, y_test = train_test_split(\n",
        "            X, y, test_size = 0.2, random_state=42)\n",
        "\n",
        "knn = KNeighborsClassifier(n_neighbors=7)\n",
        "\n",
        "knn.fit(X_train, y_train)\n",
        "\n",
        "# Calculate the accuracy of the model\n",
        "print(knn.score(X_test, y_test))\n",
        "\n",
        "import numpy as np \n",
        "import pandas as pd\n",
        "from sklearn.neighbors import KNeighborsClassifier\n",
        "from sklearn.model_selection import train_test_split  \n",
        "from sklearn import metrics\n",
        "from sklearn.datasets import load_iris\n",
        "#import matplotlib.pyplot as plt\n",
        "\n",
        "names = ['sepal-length', 'sepal-width', 'petal-length', 'petal-width', 'Class']\n",
        "\n",
        "# Read dataset to pandas dataframe\n",
        "#dataset = pd.read_csv(\"8-dataset.csv\", names=names)\n",
        "#X = dataset.iloc[:, :-1]  \n",
        "#y = dataset.iloc[:, -1]\n",
        "#print(X.head())\n",
        "dataset =load_iris()\n",
        "X=dataset.data\n",
        "y=dataset.target\n",
        "Xtrain, Xtest, ytrain, ytest = train_test_split(X, y, test_size=0.10) \n",
        "\n",
        "classifier = KNeighborsClassifier(n_neighbors=5).fit(Xtrain, ytrain) \n",
        "\n",
        "ypred = classifier.predict(Xtest)\n",
        "\n",
        "i = 0\n",
        "print (\"\\n-------------------------------------------------------------------------\")\n",
        "print ('%-25s %-25s %-25s' % ('Original Label', 'Predicted Label', 'Correct/Wrong'))\n",
        "print(\"\\n\")\n",
        "#print (\"-------------------------------------------------------------------------\")\n",
        "for label in ytest:\n",
        "    print ('%-25s %-25s' % (label, ypred[i]), end=\"\")\n",
        "    if (label == ypred[i]):\n",
        "        print (' %-25s' % ('Correct'))\n",
        "    else:\n",
        "        print (' %-25s' % ('Wrong'))\n",
        "    i = i + 1\n",
        "print (\"\\n\")\n",
        "print(\"\\nConfusion Matrix:\\n\",metrics.confusion_matrix(ytest, ypred))  \n",
        "print (\"\\n\")\n",
        "print(\"\\nClassification Report:\\n\",metrics.classification_report(ytest, ypred)) \n",
        "print (\"\\n\")\n",
        "print('Accuracy of the classifer is %0.2f' % metrics.accuracy_score(ytest,ypred))\n",
        "#print (\"-------------------------------------------------------------------------\")\n",
        "\n",
        "\n"
      ],
      "metadata": {
        "colab": {
          "base_uri": "https://localhost:8080/"
        },
        "id": "s1dcKFwJeoiH",
        "outputId": "a0b52b90-4b9c-498b-8c32-e2b97f61c70f"
      },
      "execution_count": null,
      "outputs": [
        {
          "output_type": "stream",
          "name": "stdout",
          "text": [
            "0.9666666666666667\n",
            "\n",
            "-------------------------------------------------------------------------\n",
            "Original Label            Predicted Label           Correct/Wrong            \n",
            "\n",
            "\n",
            "2                         2                         Correct                  \n",
            "0                         0                         Correct                  \n",
            "0                         0                         Correct                  \n",
            "0                         0                         Correct                  \n",
            "1                         1                         Correct                  \n",
            "2                         2                         Correct                  \n",
            "0                         0                         Correct                  \n",
            "1                         1                         Correct                  \n",
            "0                         0                         Correct                  \n",
            "1                         1                         Correct                  \n",
            "0                         0                         Correct                  \n",
            "0                         0                         Correct                  \n",
            "1                         1                         Correct                  \n",
            "2                         2                         Correct                  \n",
            "1                         1                         Correct                  \n",
            "\n",
            "\n",
            "\n",
            "Confusion Matrix:\n",
            " [[7 0 0]\n",
            " [0 5 0]\n",
            " [0 0 3]]\n",
            "\n",
            "\n",
            "\n",
            "Classification Report:\n",
            "               precision    recall  f1-score   support\n",
            "\n",
            "           0       1.00      1.00      1.00         7\n",
            "           1       1.00      1.00      1.00         5\n",
            "           2       1.00      1.00      1.00         3\n",
            "\n",
            "    accuracy                           1.00        15\n",
            "   macro avg       1.00      1.00      1.00        15\n",
            "weighted avg       1.00      1.00      1.00        15\n",
            "\n",
            "\n",
            "\n",
            "Accuracy of the classifer is 1.00\n"
          ]
        }
      ]
    },
    {
      "cell_type": "code",
      "source": [
        " import numpy as np\n",
        "import matplotlib.pyplot as plt\n",
        "import pandas as pd\n",
        "# Importing the datasets\n",
        "\n",
        "datasets = pd.read_csv('svm.csv')\n",
        "print(\"Dataset:\",\"\\n\",datasets.head(),\"\\n\")\n",
        "X = datasets.iloc[:, [2,3]].values\n",
        "Y = datasets.iloc[:, 4].values\n",
        "\n",
        "# Splitting the dataset into the Training set and Test set\n",
        "\n",
        "from sklearn.model_selection import train_test_split\n",
        "X_Train, X_Test, Y_Train, Y_Test = train_test_split(X, Y, test_size = 0.25, random_state = 0)\n",
        "\n",
        "# Feature Scaling\n",
        "\n",
        "from sklearn.preprocessing import StandardScaler\n",
        "sc_X = StandardScaler()\n",
        "X_Train = sc_X.fit_transform(X_Train)\n",
        "X_Test = sc_X.transform(X_Test)\n",
        "\n",
        "# Fitting the classifier into the Training set\n",
        "\n",
        "from sklearn.svm import SVC\n",
        "classifier = SVC(kernel = 'linear', random_state = 0)\n",
        "classifier.fit(X_Train, Y_Train)\n",
        "\n",
        "# Predicting the test set results\n",
        "\n",
        "Y_Pred = classifier.predict(X_Test)\n",
        "\n",
        "# Making the Confusion Matrix \n",
        "\n",
        "from sklearn.metrics import confusion_matrix,accuracy_score\n",
        "cm = confusion_matrix(Y_Test, Y_Pred)\n",
        "print(\"Confusion Matrix:\",\"\\n\",cm)\n",
        "acc=accuracy_score(Y_Test, Y_Pred)\n",
        "print(\"Accuracy=\",acc)\n",
        "\n",
        "# Visualising the Training set results\n",
        "\n",
        "from matplotlib.colors import ListedColormap\n",
        "X_Set, Y_Set = X_Train, Y_Train\n",
        "X1, X2 = np.meshgrid(np.arange(start = X_Set[:, 0].min() - 1, stop = X_Set[:, 0].max() + 1, step = 0.01),\n",
        "                     np.arange(start = X_Set[:, 1].min() - 1, stop = X_Set[:, 1].max() + 1, step = 0.01))\n",
        "plt.contourf(X1, X2, classifier.predict(np.array([X1.ravel(), X2.ravel()]).T).reshape(X1.shape),\n",
        "             alpha = 0.75, cmap = ListedColormap(('red', 'green')))\n",
        "plt.xlim(X1.min(), X1.max())\n",
        "plt.ylim(X2.min(), X2.max())\n",
        "for i, j in enumerate(np.unique(Y_Set)):\n",
        "    plt.scatter(X_Set[Y_Set == j, 0], X_Set[Y_Set == j, 1],\n",
        "                c = ListedColormap(('red', 'green'))(i), label = j)\n",
        "plt.title('Support Vector Machine (Training set)')\n",
        "plt.xlabel('Age')\n",
        "plt.ylabel('Estimated Salary')\n",
        "plt.legend()\n",
        "plt.show()\n",
        "\n",
        "# Visualising the Test set results\n",
        "from matplotlib.colors import ListedColormap\n",
        "X_Set, Y_Set = X_Test, Y_Test\n",
        "X1, X2 = np.meshgrid(np.arange(start = X_Set[:, 0].min() - 1, stop = X_Set[:, 0].max() + 1, step = 0.01),\n",
        "                     np.arange(start = X_Set[:, 1].min() - 1, stop = X_Set[:, 1].max() + 1, step = 0.01))\n",
        "plt.contourf(X1, X2, classifier.predict(np.array([X1.ravel(), X2.ravel()]).T).reshape(X1.shape),\n",
        "             alpha = 0.75, cmap = ListedColormap(('red', 'green')))\n",
        "plt.xlim(X1.min(), X1.max())\n",
        "plt.ylim(X2.min(), X2.max())\n",
        "for i, j in enumerate(np.unique(Y_Set)):\n",
        "    plt.scatter(X_Set[Y_Set == j, 0], X_Set[Y_Set == j, 1],\n",
        "                c = ListedColormap(('red', 'green'))(i), label = j)\n",
        "plt.title('Support Vector Machine (Test set)')\n",
        "plt.xlabel('Age')\n",
        "plt.ylabel('Estimated Salary')\n",
        "plt.legend()\n",
        "plt.show()"
      ],
      "metadata": {
        "colab": {
          "base_uri": "https://localhost:8080/",
          "height": 871
        },
        "id": "Z4BDAgtEe_G4",
        "outputId": "e0122b1a-d5a4-4c9b-8abc-371bf262c7fe"
      },
      "execution_count": null,
      "outputs": [
        {
          "output_type": "stream",
          "name": "stdout",
          "text": [
            "Dataset: \n",
            "     User ID  Gender  Age  EstimatedSalary  Purchased\n",
            "0  15624510    Male   19            19000          0\n",
            "1  15810944    Male   35            20000          0\n",
            "2  15668575  Female   26            43000          0\n",
            "3  15603246  Female   27            57000          0\n",
            "4  15804002    Male   19            76000          0 \n",
            "\n",
            "Confusion Matrix: \n",
            " [[66  2]\n",
            " [ 8 24]]\n",
            "Accuracy= 0.9\n"
          ]
        },
        {
          "output_type": "stream",
          "name": "stderr",
          "text": [
            "WARNING:matplotlib.axes._axes:*c* argument looks like a single numeric RGB or RGBA sequence, which should be avoided as value-mapping will have precedence in case its length matches with *x* & *y*.  Please use the *color* keyword-argument or provide a 2-D array with a single row if you intend to specify the same RGB or RGBA value for all points.\n",
            "WARNING:matplotlib.axes._axes:*c* argument looks like a single numeric RGB or RGBA sequence, which should be avoided as value-mapping will have precedence in case its length matches with *x* & *y*.  Please use the *color* keyword-argument or provide a 2-D array with a single row if you intend to specify the same RGB or RGBA value for all points.\n"
          ]
        },
        {
          "output_type": "display_data",
          "data": {
            "text/plain": [
              "<Figure size 432x288 with 1 Axes>"
            ],
            "image/png": "[encoded data removed]"
          },
          "metadata": {
            "needs_background": "light"
          }
        },
        {
          "output_type": "stream",
          "name": "stderr",
          "text": [
            "WARNING:matplotlib.axes._axes:*c* argument looks like a single numeric RGB or RGBA sequence, which should be avoided as value-mapping will have precedence in case its length matches with *x* & *y*.  Please use the *color* keyword-argument or provide a 2-D array with a single row if you intend to specify the same RGB or RGBA value for all points.\n",
            "WARNING:matplotlib.axes._axes:*c* argument looks like a single numeric RGB or RGBA sequence, which should be avoided as value-mapping will have precedence in case its length matches with *x* & *y*.  Please use the *color* keyword-argument or provide a 2-D array with a single row if you intend to specify the same RGB or RGBA value for all points.\n"
          ]
        },
        {
          "output_type": "display_data",
          "data": {
            "text/plain": [
              "<Figure size 432x288 with 1 Axes>"
            ],
            "image/png": "[encoded data removed]"
          },
          "metadata": {
            "needs_background": "light"
          }
        }
      ]
    },
    {
      "cell_type": "code",
      "source": [
        "pip install mchmm\n"
      ],
      "metadata": {
        "colab": {
          "base_uri": "https://localhost:8080/"
        },
        "id": "cle0tH_6jULH",
        "outputId": "4cdb7cca-3c02-42df-f51d-31039cc7fd82"
      },
      "execution_count": null,
      "outputs": [
        {
          "output_type": "stream",
          "name": "stdout",
          "text": [
            "Looking in indexes: https://pypi.org/simple, https://us-python.pkg.dev/colab-wheels/public/simple/\n",
            "Collecting mchmm\n",
            "  Downloading mchmm-0.4.3-py3-none-any.whl (23 kB)\n",
            "Requirement already satisfied: numpy in /usr/local/lib/python3.7/dist-packages (from mchmm) (1.21.6)\n",
            "Requirement already satisfied: graphviz in /usr/local/lib/python3.7/dist-packages (from mchmm) (0.10.1)\n",
            "Requirement already satisfied: scipy in /usr/local/lib/python3.7/dist-packages (from mchmm) (1.7.3)\n",
            "Installing collected packages: mchmm\n",
            "Successfully installed mchmm-0.4.3\n"
          ]
        }
      ]
    },
    {
      "cell_type": "code",
      "source": [
        "\n",
        "import mchmm as mc\n",
        "import pandas as pd\n",
        "obs_seq = 'SWSCRWCSRSRSRSSWWWWCSWWCRW'\n",
        "sts_seq = '00000000111111100000000000'\n",
        "print(obs_seq)\n",
        "print(\"\\nS-Sunny\\nW-Windy\\nR-Rainy\\nC-Cloudy\\n\")\n",
        "print(sts_seq)\n",
        "print(\"\\n0-Sad\\n1-Happy\")\n",
        "a = mc.HiddenMarkovModel().from_seq(obs_seq, sts_seq)\n",
        "print(\"\\nHidden States:\\n\",a.states)\n",
        "print(\"\\nObservations:\\n\",a.observations)\n",
        "print(\"\\nTransition Probability Matrix:\\n\",a.tp)\n",
        "print(\"\\nEmission Probability Matrix:\\n\")\n",
        "pd.DataFrame(a.ep, index=a.states, columns=a.observations)\n",
        "new_obs = \"WRRWWWCRSWSSWSRW\"\n",
        "vs, vsi = a.viterbi(new_obs)\n",
        "print(\"Predicted States: \", \"\".join(vs))\n",
        "\n"
      ],
      "metadata": {
        "colab": {
          "base_uri": "https://localhost:8080/"
        },
        "id": "HR-y8-2IjZxm",
        "outputId": "bcb9a77e-37cd-474f-c32f-397b97f38f84"
      },
      "execution_count": null,
      "outputs": [
        {
          "output_type": "stream",
          "name": "stdout",
          "text": [
            "SWSCRWCSRSRSRSSWWWWCSWWCRW\n",
            "\n",
            "S-Sunny\n",
            "W-Windy\n",
            "R-Rainy\n",
            "C-Cloudy\n",
            "\n",
            "00000000111111100000000000\n",
            "\n",
            "0-Sad\n",
            "1-Happy\n",
            "\n",
            "Hidden States:\n",
            " ['0' '1']\n",
            "\n",
            "Observations:\n",
            " ['C' 'R' 'S' 'W']\n",
            "\n",
            "Transition Probability Matrix:\n",
            " [[0.94444444 0.05555556]\n",
            " [0.14285714 0.85714286]]\n",
            "\n",
            "Emission Probability Matrix:\n",
            "\n",
            "Predicted States:  0000000000000000\n"
          ]
        }
      ]
    },
    {
      "cell_type": "code",
      "source": [
        "pip install kneed"
      ],
      "metadata": {
        "colab": {
          "base_uri": "https://localhost:8080/"
        },
        "id": "AVLW7OxtkXM2",
        "outputId": "b244e07a-1c30-4911-9809-5dd3bc7ad904"
      },
      "execution_count": null,
      "outputs": [
        {
          "output_type": "stream",
          "name": "stdout",
          "text": [
            "Looking in indexes: https://pypi.org/simple, https://us-python.pkg.dev/colab-wheels/public/simple/\n",
            "Collecting kneed\n",
            "  Downloading kneed-0.8.1-py2.py3-none-any.whl (10 kB)\n",
            "Requirement already satisfied: numpy>=1.14.2 in /usr/local/lib/python3.7/dist-packages (from kneed) (1.21.6)\n",
            "Requirement already satisfied: scipy>=1.0.0 in /usr/local/lib/python3.7/dist-packages (from kneed) (1.7.3)\n",
            "Installing collected packages: kneed\n",
            "Successfully installed kneed-0.8.1\n"
          ]
        }
      ]
    },
    {
      "cell_type": "code",
      "source": [
        "import numpy as nm    \n",
        "import matplotlib.pyplot as mtp    \n",
        "import pandas as pd\n",
        "dataset = pd.read_csv('11.csv')\n",
        "dataset.head()\n",
        "x = dataset.iloc[:, [3, 4]].values \n",
        "from sklearn.cluster import KMeans  \n",
        "wcss_list= []  #Initializing the list for the values of WCSS  \n",
        "  \n",
        "#Using for loop for iterations from 1 to 10.  \n",
        "for i in range(1, 11):  \n",
        "    kmeans = KMeans(n_clusters=i, init='k-means++', random_state= 42)  \n",
        "    kmeans.fit(x)  \n",
        "    wcss_list.append(kmeans.inertia_)  \n",
        "mtp.plot(range(1, 11), wcss_list)  \n",
        "mtp.title('The Elobw Method Graph')  \n",
        "mtp.xlabel('Number of clusters(k)')  \n",
        "mtp.ylabel('wcss_list')  \n",
        "mtp.show()  \n",
        "\n",
        "from kneed import KneeLocator \n",
        "kl = KneeLocator(range(1, 11), wcss_list, curve=\"convex\", direction=\"decreasing\")\n",
        "print(\"\\nNumber of clusters:\",kl.elbow)\n",
        "kmeans = KMeans(n_clusters=5, init='k-means++', random_state= 42)  \n",
        "y_predict= kmeans.fit_predict(x) \n",
        "mtp.scatter(x[y_predict == 0, 0], x[y_predict == 0, 1], s = 100, c = 'blue', label = 'Cluster 1') #for first cluster  \n",
        "mtp.scatter(x[y_predict == 1, 0], x[y_predict == 1, 1], s = 100, c = 'green', label = 'Cluster 2') #for second cluster  \n",
        "mtp.scatter(x[y_predict== 2, 0], x[y_predict == 2, 1], s = 100, c = 'red', label = 'Cluster 3') #for third cluster  \n",
        "mtp.scatter(x[y_predict == 3, 0], x[y_predict == 3, 1], s = 100, c = 'cyan', label = 'Cluster 4') #for fourth cluster  \n",
        "mtp.scatter(x[y_predict == 4, 0], x[y_predict == 4, 1], s = 100, c = 'magenta', label = 'Cluster 5') #for fifth cluster  \n",
        "mtp.scatter(kmeans.cluster_centers_[:, 0], kmeans.cluster_centers_[:, 1], s = 300, c = 'yellow', label = 'Centroid')   \n",
        "mtp.title('Clusters of customers')  \n",
        "mtp.xlabel('Annual Income (k$)')  \n",
        "mtp.ylabel('Spending Score (1-100)')  \n",
        "mtp.legend()  \n",
        "mtp.show()  "
      ],
      "metadata": {
        "colab": {
          "base_uri": "https://localhost:8080/",
          "height": 608
        },
        "id": "naBsY2GPjvOf",
        "outputId": "da817f48-ef14-4b93-f4fa-ddbba88ddcc3"
      },
      "execution_count": null,
      "outputs": [
        {
          "output_type": "display_data",
          "data": {
            "text/plain": [
              "<Figure size 432x288 with 1 Axes>"
            ],
            "image/png": "[encoded data removed]"
          },
          "metadata": {
            "needs_background": "light"
          }
        },
        {
          "output_type": "stream",
          "name": "stdout",
          "text": [
            "\n",
            "Number of clusters: 5\n"
          ]
        },
        {
          "output_type": "display_data",
          "data": {
            "text/plain": [
              "<Figure size 432x288 with 1 Axes>"
            ],
            "image/png": "[encoded data removed]"
          },
          "metadata": {
            "needs_background": "light"
          }
        }
      ]
    },
    {
      "cell_type": "code",
      "source": [
        "from keras.layers import Dense,Conv2D,MaxPooling2D,UpSampling2D\n",
        "from keras import Input, Model\n",
        "from keras.datasets import mnist\n",
        "import numpy as np\n",
        "import matplotlib.pyplot as plt\n",
        "encoding_dim = 15 \n",
        "input_img = Input(shape=(784,))\n",
        "# encoded representation of input\n",
        "encoded = Dense(encoding_dim, activation='relu')(input_img)\n",
        "# decoded representation of code \n",
        "decoded = Dense(784, activation='sigmoid')(encoded)\n",
        "# Model which take input image and shows decoded images\n",
        "autoencoder = Model(input_img, decoded)\n",
        "encoder = Model(input_img, encoded)\n",
        "# Creating a decoder model\n",
        "encoded_input = Input(shape=(encoding_dim,))\n",
        "# last layer of the autoencoder model\n",
        "decoder_layer = autoencoder.layers[-1]\n",
        "# decoder model\n",
        "decoder = Model(encoded_input, decoder_layer(encoded_input))\n",
        "autoencoder.compile(optimizer='adam', loss='binary_crossentropy')\n",
        "(x_train, y_train), (x_test, y_test) = mnist.load_data()\n",
        "x_train = x_train.astype('float32') / 255.\n",
        "x_test = x_test.astype('float32') / 255.\n",
        "x_train = x_train.reshape((len(x_train), np.prod(x_train.shape[1:])))\n",
        "x_test = x_test.reshape((len(x_test), np.prod(x_test.shape[1:])))\n",
        "print(x_train.shape)\n",
        "print(x_test.shape)\n",
        "autoencoder.fit(x_train, x_train,\n",
        "                epochs=20,\n",
        "                batch_size=256,\n",
        "                validation_data=(x_test, x_test))\n",
        "encoded_img = encoder.predict(x_test)\n",
        "decoded_img = decoder.predict(encoded_img)\n",
        "plt.figure(figsize=(20, 4))\n",
        "for i in range(7):\n",
        "    # Display original\n",
        "    ax = plt.subplot(2, 7, i + 1)\n",
        "    plt.imshow(x_test[i].reshape(28, 28))\n",
        "    plt.gray()\n",
        "    ax.get_xaxis().set_visible(False)\n",
        "    ax.get_yaxis().set_visible(False)\n",
        "    # Display reconstruction\n",
        "    ax = plt.subplot(2, 7, i + 1 + 7)\n",
        "    plt.imshow(decoded_img[i].reshape(28, 28))\n",
        "    plt.gray()\n",
        "    ax.get_xaxis().set_visible(False)\n",
        "    ax.get_yaxis().set_visible(False)\n",
        "plt.show()"
      ],
      "metadata": {
        "colab": {
          "base_uri": "https://localhost:8080/",
          "height": 1000
        },
        "id": "FJo_OeYvkuZk",
        "outputId": "e8ef3937-b178-468b-9227-d9f1b17c6e07"
      },
      "execution_count": null,
      "outputs": [
        {
          "output_type": "stream",
          "name": "stdout",
          "text": [
            "Downloading data from https://storage.googleapis.com/tensorflow/tf-keras-datasets/mnist.npz\n",
            "11490434/11490434 [==============================] - 0s 0us/step\n",
            "(60000, 784)\n",
            "(10000, 784)\n",
            "Epoch 1/20\n",
            "235/235 [==============================] - 4s 12ms/step - loss: 0.3116 - val_loss: 0.2258\n",
            "Epoch 2/20\n",
            "235/235 [==============================] - 3s 12ms/step - loss: 0.2013 - val_loss: 0.1838\n",
            "Epoch 3/20\n",
            "235/235 [==============================] - 3s 12ms/step - loss: 0.1756 - val_loss: 0.1662\n",
            "Epoch 4/20\n",
            "235/235 [==============================] - 3s 12ms/step - loss: 0.1614 - val_loss: 0.1553\n",
            "Epoch 5/20\n",
            "235/235 [==============================] - 3s 12ms/step - loss: 0.1532 - val_loss: 0.1494\n",
            "Epoch 6/20\n",
            "235/235 [==============================] - 3s 12ms/step - loss: 0.1486 - val_loss: 0.1459\n",
            "Epoch 7/20\n",
            "235/235 [==============================] - 3s 11ms/step - loss: 0.1457 - val_loss: 0.1434\n",
            "Epoch 8/20\n",
            "235/235 [==============================] - 3s 11ms/step - loss: 0.1435 - val_loss: 0.1413\n",
            "Epoch 9/20\n",
            "235/235 [==============================] - 3s 11ms/step - loss: 0.1418 - val_loss: 0.1397\n",
            "Epoch 10/20\n",
            "235/235 [==============================] - 3s 11ms/step - loss: 0.1403 - val_loss: 0.1384\n",
            "Epoch 11/20\n",
            "235/235 [==============================] - 3s 12ms/step - loss: 0.1389 - val_loss: 0.1369\n",
            "Epoch 12/20\n",
            "235/235 [==============================] - 3s 11ms/step - loss: 0.1378 - val_loss: 0.1360\n",
            "Epoch 13/20\n",
            "235/235 [==============================] - 3s 11ms/step - loss: 0.1368 - val_loss: 0.1350\n",
            "Epoch 14/20\n",
            "235/235 [==============================] - 3s 12ms/step - loss: 0.1359 - val_loss: 0.1342\n",
            "Epoch 15/20\n",
            "235/235 [==============================] - 5s 20ms/step - loss: 0.1352 - val_loss: 0.1334\n",
            "Epoch 16/20\n",
            "235/235 [==============================] - 5s 21ms/step - loss: 0.1347 - val_loss: 0.1329\n",
            "Epoch 17/20\n",
            "235/235 [==============================] - 4s 17ms/step - loss: 0.1343 - val_loss: 0.1325\n",
            "Epoch 18/20\n",
            "235/235 [==============================] - 3s 11ms/step - loss: 0.1339 - val_loss: 0.1321\n",
            "Epoch 19/20\n",
            "235/235 [==============================] - 3s 11ms/step - loss: 0.1337 - val_loss: 0.1320\n",
            "Epoch 20/20\n",
            "235/235 [==============================] - 3s 11ms/step - loss: 0.1334 - val_loss: 0.1318\n",
            "313/313 [==============================] - 0s 1ms/step\n",
            "313/313 [==============================] - 0s 1ms/step\n"
          ]
        },
        {
          "output_type": "display_data",
          "data": {
            "text/plain": [
              "<Figure size 1440x288 with 14 Axes>"
            ],
            "image/png": "[encoded data removed]"
          },
          "metadata": {
            "needs_background": "light"
          }
        }
      ]
    },
    {
      "cell_type": "code",
      "source": [
        "# -*- coding: utf-8 -*-\n",
        "\"\"\"PCA.ipynb\n",
        "\n",
        "Automatically generated by Colaboratory.\n",
        "\n",
        "Original file is located at\n",
        "    https://colab.research.google.com/drive/14EkI0iARudQUdWzq1gWSBsRfXpi5eX8T\n",
        "\"\"\"\n",
        "\n",
        "# Commented out IPython magic to ensure Python compatibility.\n",
        "import pandas as pd \n",
        "import numpy as np\n",
        "import matplotlib.pyplot as plt\n",
        "from sklearn.decomposition import PCA\n",
        "from sklearn.preprocessing import StandardScaler\n",
        "# %matplotlib inline\n",
        "\n",
        "url = \"https://archive.ics.uci.edu/ml/machine-learning-databases/iris/iris.data\"\n",
        "\n",
        "df = pd.read_csv(url, names=['sepal length','sepal width','petal length','petal width','target'])\n",
        "\n",
        "df.head()\n",
        "\n",
        "features = ['sepal length', 'sepal width', 'petal length', 'petal width']\n",
        "x = df.loc[:, features].values\n",
        "\n",
        "y = df.loc[:,['target']].values\n",
        "\n",
        "x = StandardScaler().fit_transform(x)\n",
        "\n",
        "pd.DataFrame(data = x, columns = features).head()\n",
        "\n",
        "pca = PCA(n_components=2)\n",
        "\n",
        "principalComponents = pca.fit_transform(x)\n",
        "\n",
        "principalDf = pd.DataFrame(data = principalComponents, columns = ['principal component 1', 'principal component 2'])\n",
        "\n",
        "principalDf.head(5)\n",
        "\n",
        "df[['target']].head()\n",
        "\n",
        "finalDf=pd.concat([principalDf,df[['target']]],axis=1)\n",
        "finalDf.head()\n",
        "\n",
        "fig = plt.figure(figsize = (8,8))\n",
        "ax = fig.add_subplot(1,1,1) \n",
        "ax.set_xlabel('Principal Component 1', fontsize = 15)\n",
        "ax.set_ylabel('Principal Component 2', fontsize = 15)\n",
        "ax.set_title('2 Component PCA', fontsize = 20)\n",
        "\n",
        "\n",
        "targets = ['Iris-setosa', 'Iris-versicolor', 'Iris-virginica']\n",
        "colors = ['r', 'g', 'b']\n",
        "for target, color in zip(targets,colors):\n",
        "    indicesToKeep = finalDf['target'] == target\n",
        "    ax.scatter(finalDf.loc[indicesToKeep, 'principal component 1']\n",
        "               , finalDf.loc[indicesToKeep, 'principal component 2']\n",
        "               , c = color\n",
        "               , s = 50)\n",
        "ax.legend(targets)\n",
        "ax.grid()\n",
        "\n",
        "print(pca.explained_variance_ratio_)\n",
        "\n"
      ],
      "metadata": {
        "colab": {
          "base_uri": "https://localhost:8080/",
          "height": 540
        },
        "id": "QhNVZ65AlA5j",
        "outputId": "5a73caa7-25ea-40f0-a473-605dc208aa4f"
      },
      "execution_count": null,
      "outputs": [
        {
          "output_type": "stream",
          "name": "stdout",
          "text": [
            "[0.72770452 0.23030523]\n"
          ]
        },
        {
          "output_type": "display_data",
          "data": {
            "text/plain": [
              "<Figure size 576x576 with 1 Axes>"
            ],
            "image/png": "[encoded data removed]"
          },
          "metadata": {
            "needs_background": "light"
          }
        }
      ]
    }
  ]
}